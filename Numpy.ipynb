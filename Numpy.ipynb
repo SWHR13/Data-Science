{
  "nbformat": 4,
  "nbformat_minor": 0,
  "metadata": {
    "colab": {
      "provenance": []
    },
    "kernelspec": {
      "name": "python3",
      "display_name": "Python 3"
    },
    "language_info": {
      "name": "python"
    }
  },
  "cells": [
    {
      "cell_type": "markdown",
      "source": [
        "1. Creating numpy/n-d array"
      ],
      "metadata": {
        "id": "0IC1HG3bw7Z3"
      }
    },
    {
      "cell_type": "code",
      "source": [
        "import numpy as np"
      ],
      "metadata": {
        "id": "8aj3ne05xJfL"
      },
      "execution_count": null,
      "outputs": []
    },
    {
      "cell_type": "code",
      "source": [
        "arr1=np.array([1,2,3,4,5])  #List pass kari to array ban gaya\n",
        "arr1"
      ],
      "metadata": {
        "colab": {
          "base_uri": "https://localhost:8080/"
        },
        "id": "Sr7mFNuWxQxF",
        "outputId": "f05c38fa-1ea9-4302-ec4b-de320ba7ab9e"
      },
      "execution_count": null,
      "outputs": [
        {
          "output_type": "execute_result",
          "data": {
            "text/plain": [
              "array([1, 2, 3, 4, 5])"
            ]
          },
          "metadata": {},
          "execution_count": 2
        }
      ]
    },
    {
      "cell_type": "code",
      "source": [
        "type(arr1)"
      ],
      "metadata": {
        "colab": {
          "base_uri": "https://localhost:8080/"
        },
        "id": "JHZFWSPHxiTH",
        "outputId": "bdc9cbf7-4048-470f-9d65-fc38c684fc86"
      },
      "execution_count": null,
      "outputs": [
        {
          "output_type": "execute_result",
          "data": {
            "text/plain": [
              "numpy.ndarray"
            ]
          },
          "metadata": {},
          "execution_count": 3
        }
      ]
    },
    {
      "cell_type": "code",
      "source": [
        "#2-dimensional Array\n",
        "arr2=np.array([[1,2,3],[4,5,6]])  #It is called 2D array necause it has both rows(2) and columns(3)\n",
        "arr2                               #first row(1,2,3) and second row(4,5,6)"
      ],
      "metadata": {
        "colab": {
          "base_uri": "https://localhost:8080/"
        },
        "id": "yyiZTbKExou7",
        "outputId": "a81accd1-f311-4d7f-e1ed-0d4f32b8a137"
      },
      "execution_count": null,
      "outputs": [
        {
          "output_type": "execute_result",
          "data": {
            "text/plain": [
              "array([[1, 2, 3],\n",
              "       [4, 5, 6]])"
            ]
          },
          "metadata": {},
          "execution_count": 4
        }
      ]
    },
    {
      "cell_type": "code",
      "source": [
        "arr3=np.zeros((2,3))  #It means to create an array of 2 rows and 3 columns with the default value of 0\n",
        "arr3                  #Update values later as needed, Create initial empty space in an array , Write code that's fast and efficient"
      ],
      "metadata": {
        "colab": {
          "base_uri": "https://localhost:8080/"
        },
        "id": "44gNjfZMzOXi",
        "outputId": "39f93a9c-21fa-43d9-dc55-e39832821c7f"
      },
      "execution_count": null,
      "outputs": [
        {
          "output_type": "execute_result",
          "data": {
            "text/plain": [
              "array([[0., 0., 0.],\n",
              "       [0., 0., 0.]])"
            ]
          },
          "metadata": {},
          "execution_count": 5
        }
      ]
    },
    {
      "cell_type": "code",
      "source": [
        "arr4=np.ones((3,3))\n",
        "arr4"
      ],
      "metadata": {
        "colab": {
          "base_uri": "https://localhost:8080/"
        },
        "id": "7i4rf0OV0TyX",
        "outputId": "847b99a4-19b9-49bb-d2de-931505e3c1b7"
      },
      "execution_count": null,
      "outputs": [
        {
          "output_type": "execute_result",
          "data": {
            "text/plain": [
              "array([[1., 1., 1.],\n",
              "       [1., 1., 1.],\n",
              "       [1., 1., 1.]])"
            ]
          },
          "metadata": {},
          "execution_count": 7
        }
      ]
    },
    {
      "cell_type": "code",
      "source": [
        "arr5=np.identity(4)   #Matrix of 5x5 where every value is 0 except diagonally 1\n",
        "arr5"
      ],
      "metadata": {
        "colab": {
          "base_uri": "https://localhost:8080/"
        },
        "id": "6eGmKf1005Ew",
        "outputId": "0c7b634c-2204-4200-84e0-d6bc2730bd00"
      },
      "execution_count": null,
      "outputs": [
        {
          "output_type": "execute_result",
          "data": {
            "text/plain": [
              "array([[1., 0., 0., 0.],\n",
              "       [0., 1., 0., 0.],\n",
              "       [0., 0., 1., 0.],\n",
              "       [0., 0., 0., 1.]])"
            ]
          },
          "metadata": {},
          "execution_count": 8
        }
      ]
    },
    {
      "cell_type": "code",
      "source": [
        "arr6=np.arange(10) #It will create a range between 0 and 9 (10 elements)\n",
        "arr6"
      ],
      "metadata": {
        "colab": {
          "base_uri": "https://localhost:8080/"
        },
        "id": "A4e50uVR1SRG",
        "outputId": "930b4b6b-0a24-4938-cf63-357a5e9bfbed"
      },
      "execution_count": null,
      "outputs": [
        {
          "output_type": "execute_result",
          "data": {
            "text/plain": [
              "array([0, 1, 2, 3, 4, 5, 6, 7, 8, 9])"
            ]
          },
          "metadata": {},
          "execution_count": 9
        }
      ]
    },
    {
      "cell_type": "code",
      "source": [
        "arr7=np.arange(4,12,2) #(start,end,jump)\n",
        "arr7"
      ],
      "metadata": {
        "colab": {
          "base_uri": "https://localhost:8080/"
        },
        "id": "rY7W1Hjz1ec5",
        "outputId": "265c74dd-0e9d-47c2-f7d4-a51081f5b241"
      },
      "execution_count": null,
      "outputs": [
        {
          "output_type": "execute_result",
          "data": {
            "text/plain": [
              "array([ 4,  6,  8, 10])"
            ]
          },
          "metadata": {},
          "execution_count": 10
        }
      ]
    },
    {
      "cell_type": "code",
      "source": [
        "arr7=np.linspace(10,20,10)  #start from 10,end on 20,Total of 10 values,all values will be equally spaced (with equal gaps).\n",
        "arr7"
      ],
      "metadata": {
        "colab": {
          "base_uri": "https://localhost:8080/"
        },
        "id": "dD6R4qOL1zK5",
        "outputId": "10a3b1b7-b93b-47e5-b47f-ecc75078dde0"
      },
      "execution_count": null,
      "outputs": [
        {
          "output_type": "execute_result",
          "data": {
            "text/plain": [
              "array([10.        , 11.11111111, 12.22222222, 13.33333333, 14.44444444,\n",
              "       15.55555556, 16.66666667, 17.77777778, 18.88888889, 20.        ])"
            ]
          },
          "metadata": {},
          "execution_count": 11
        }
      ]
    },
    {
      "cell_type": "code",
      "source": [
        "arr8=arr7.copy()\n",
        "arr8"
      ],
      "metadata": {
        "colab": {
          "base_uri": "https://localhost:8080/"
        },
        "id": "XVYfZe1t27uq",
        "outputId": "f825129c-292c-4d1d-80fd-d75b123c2008"
      },
      "execution_count": null,
      "outputs": [
        {
          "output_type": "execute_result",
          "data": {
            "text/plain": [
              "array([10.        , 11.11111111, 12.22222222, 13.33333333, 14.44444444,\n",
              "       15.55555556, 16.66666667, 17.77777778, 18.88888889, 20.        ])"
            ]
          },
          "metadata": {},
          "execution_count": 12
        }
      ]
    },
    {
      "cell_type": "markdown",
      "source": [
        "# **Numpy Properties and Attributes**"
      ],
      "metadata": {
        "id": "2f9oHDyY3Mc5"
      }
    },
    {
      "cell_type": "code",
      "source": [
        "arr1"
      ],
      "metadata": {
        "colab": {
          "base_uri": "https://localhost:8080/"
        },
        "id": "RRT2FtBm3WYd",
        "outputId": "08a10555-9b40-4c00-85ac-895e07df1fc9"
      },
      "execution_count": null,
      "outputs": [
        {
          "output_type": "execute_result",
          "data": {
            "text/plain": [
              "array([1, 2, 3, 4, 5])"
            ]
          },
          "metadata": {},
          "execution_count": 13
        }
      ]
    },
    {
      "cell_type": "code",
      "source": [
        "arr1.shape"
      ],
      "metadata": {
        "colab": {
          "base_uri": "https://localhost:8080/"
        },
        "id": "mWmeCvd43tGH",
        "outputId": "e45df273-c9f9-4351-b494-5e8a16b9a27e"
      },
      "execution_count": null,
      "outputs": [
        {
          "output_type": "execute_result",
          "data": {
            "text/plain": [
              "(5,)"
            ]
          },
          "metadata": {},
          "execution_count": 14
        }
      ]
    },
    {
      "cell_type": "code",
      "source": [
        "arr2.shape"
      ],
      "metadata": {
        "colab": {
          "base_uri": "https://localhost:8080/"
        },
        "id": "F8kQb-Cp3xpt",
        "outputId": "71fc535b-7040-4c86-c1bd-669d61a395f8"
      },
      "execution_count": null,
      "outputs": [
        {
          "output_type": "execute_result",
          "data": {
            "text/plain": [
              "(2, 3)"
            ]
          },
          "metadata": {},
          "execution_count": 15
        }
      ]
    },
    {
      "cell_type": "code",
      "source": [
        "# 3-Dimensional Array\n",
        "arr9=np.array([[[1,2],[3,4]],[[5,6],[7,8]]])\n",
        "\"\"\"\n",
        "Think Of it as:\n",
        "[\n",
        "  [ [1, 2], [3, 4] ],   # First 2D block\n",
        "  [ [5, 6], [7, 8] ]    # Second 2D block\n",
        "]\n",
        "\"\"\"\n",
        "arr9"
      ],
      "metadata": {
        "colab": {
          "base_uri": "https://localhost:8080/"
        },
        "id": "OyIU-Czl35RA",
        "outputId": "56a8de29-ecbb-48be-9a67-6205956fe85d"
      },
      "execution_count": null,
      "outputs": [
        {
          "output_type": "execute_result",
          "data": {
            "text/plain": [
              "array([[[1, 2],\n",
              "        [3, 4]],\n",
              "\n",
              "       [[5, 6],\n",
              "        [7, 8]]])"
            ]
          },
          "metadata": {},
          "execution_count": 16
        }
      ]
    },
    {
      "cell_type": "code",
      "source": [
        "arr9.shape   #(2,2,2)means 2 blocks,2 rows,2 columns"
      ],
      "metadata": {
        "colab": {
          "base_uri": "https://localhost:8080/"
        },
        "id": "PZQAG3cl4dWt",
        "outputId": "a7927d82-a3ba-4170-e9ce-5ec05ee148bf"
      },
      "execution_count": null,
      "outputs": [
        {
          "output_type": "execute_result",
          "data": {
            "text/plain": [
              "(2, 2, 2)"
            ]
          },
          "metadata": {},
          "execution_count": 17
        }
      ]
    },
    {
      "cell_type": "code",
      "source": [
        "arr9.ndim  #ndim is used to determine dimensions\n"
      ],
      "metadata": {
        "colab": {
          "base_uri": "https://localhost:8080/"
        },
        "id": "aSz5UN2r4cIQ",
        "outputId": "161a9713-b444-431c-d933-03038c0437a8"
      },
      "execution_count": null,
      "outputs": [
        {
          "output_type": "execute_result",
          "data": {
            "text/plain": [
              "3"
            ]
          },
          "metadata": {},
          "execution_count": 18
        }
      ]
    },
    {
      "cell_type": "code",
      "source": [
        "arr6.ndim"
      ],
      "metadata": {
        "colab": {
          "base_uri": "https://localhost:8080/"
        },
        "id": "Tavy0P7y6jXJ",
        "outputId": "9d9f7d6e-3d50-4365-d0f4-cb1c94ad114d"
      },
      "execution_count": null,
      "outputs": [
        {
          "output_type": "execute_result",
          "data": {
            "text/plain": [
              "1"
            ]
          },
          "metadata": {},
          "execution_count": 19
        }
      ]
    },
    {
      "cell_type": "code",
      "source": [
        "arr1.size"
      ],
      "metadata": {
        "colab": {
          "base_uri": "https://localhost:8080/"
        },
        "id": "baItzkOE62MX",
        "outputId": "bcd60027-5895-4f28-bfc6-7ea80d3a5401"
      },
      "execution_count": null,
      "outputs": [
        {
          "output_type": "execute_result",
          "data": {
            "text/plain": [
              "5"
            ]
          },
          "metadata": {},
          "execution_count": 20
        }
      ]
    },
    {
      "cell_type": "code",
      "source": [
        "arr8.size"
      ],
      "metadata": {
        "colab": {
          "base_uri": "https://localhost:8080/"
        },
        "id": "SukGFSnU64_B",
        "outputId": "3f077677-e0ad-43b3-e75e-53b369a4c1d6"
      },
      "execution_count": null,
      "outputs": [
        {
          "output_type": "execute_result",
          "data": {
            "text/plain": [
              "10"
            ]
          },
          "metadata": {},
          "execution_count": 21
        }
      ]
    },
    {
      "cell_type": "code",
      "source": [
        "arr5.size\n"
      ],
      "metadata": {
        "colab": {
          "base_uri": "https://localhost:8080/"
        },
        "id": "JzBFTwX-6-UL",
        "outputId": "58ebef4b-54aa-40fb-c1da-47c6ff282829"
      },
      "execution_count": null,
      "outputs": [
        {
          "output_type": "execute_result",
          "data": {
            "text/plain": [
              "16"
            ]
          },
          "metadata": {},
          "execution_count": 22
        }
      ]
    },
    {
      "cell_type": "code",
      "source": [
        "arr5.itemsize  #The size (in bytes) of each element in the array."
      ],
      "metadata": {
        "colab": {
          "base_uri": "https://localhost:8080/"
        },
        "id": "4GHSmZzo7Dj9",
        "outputId": "f947a4bc-6864-417b-85c7-432b400e3491"
      },
      "execution_count": null,
      "outputs": [
        {
          "output_type": "execute_result",
          "data": {
            "text/plain": [
              "8"
            ]
          },
          "metadata": {},
          "execution_count": 23
        }
      ]
    },
    {
      "cell_type": "code",
      "source": [
        "arr4.itemsize"
      ],
      "metadata": {
        "colab": {
          "base_uri": "https://localhost:8080/"
        },
        "id": "YrU4LCnI7ltL",
        "outputId": "749bb327-ca5b-4df6-9d32-35dc1a65e30f"
      },
      "execution_count": null,
      "outputs": [
        {
          "output_type": "execute_result",
          "data": {
            "text/plain": [
              "8"
            ]
          },
          "metadata": {},
          "execution_count": 24
        }
      ]
    },
    {
      "cell_type": "code",
      "source": [
        "arr1.dtype  #dtype is used to determine the datatype"
      ],
      "metadata": {
        "colab": {
          "base_uri": "https://localhost:8080/"
        },
        "id": "U7QUXbnH7sqX",
        "outputId": "cc85cef0-fb55-4869-e39c-ae28c5a23f07"
      },
      "execution_count": null,
      "outputs": [
        {
          "output_type": "execute_result",
          "data": {
            "text/plain": [
              "dtype('int64')"
            ]
          },
          "metadata": {},
          "execution_count": 25
        }
      ]
    },
    {
      "cell_type": "code",
      "source": [
        "arr9.dtype"
      ],
      "metadata": {
        "colab": {
          "base_uri": "https://localhost:8080/"
        },
        "id": "yWXo322Q71G2",
        "outputId": "2b6c79fb-da69-45d4-f139-8947d6581777"
      },
      "execution_count": null,
      "outputs": [
        {
          "output_type": "execute_result",
          "data": {
            "text/plain": [
              "dtype('int64')"
            ]
          },
          "metadata": {},
          "execution_count": 26
        }
      ]
    },
    {
      "cell_type": "code",
      "source": [
        "arr9.astype('float')   #astype() is used to change the type of each element in the array."
      ],
      "metadata": {
        "colab": {
          "base_uri": "https://localhost:8080/"
        },
        "id": "oKPtYAvT76u3",
        "outputId": "4f33491a-5937-4962-c40f-c49a7b0fe4bd"
      },
      "execution_count": null,
      "outputs": [
        {
          "output_type": "execute_result",
          "data": {
            "text/plain": [
              "array([[[1., 2.],\n",
              "        [3., 4.]],\n",
              "\n",
              "       [[5., 6.],\n",
              "        [7., 8.]]])"
            ]
          },
          "metadata": {},
          "execution_count": 27
        }
      ]
    },
    {
      "cell_type": "markdown",
      "source": [
        "# **Indexing,Slicing and Iteration**"
      ],
      "metadata": {
        "id": "7OxnUv3ve88f"
      }
    },
    {
      "cell_type": "code",
      "source": [
        "arr12=np.arange(24)\n",
        "arr12"
      ],
      "metadata": {
        "colab": {
          "base_uri": "https://localhost:8080/"
        },
        "id": "dmBpbyOq6sKC",
        "outputId": "773274bb-1433-4067-b3f8-53df52941968"
      },
      "execution_count": null,
      "outputs": [
        {
          "output_type": "execute_result",
          "data": {
            "text/plain": [
              "array([ 0,  1,  2,  3,  4,  5,  6,  7,  8,  9, 10, 11, 12, 13, 14, 15, 16,\n",
              "       17, 18, 19, 20, 21, 22, 23])"
            ]
          },
          "metadata": {},
          "execution_count": 28
        }
      ]
    },
    {
      "cell_type": "code",
      "source": [
        "#Reshape  (Reshape is used to change the shape (rows,columns,dimensions)of an array without changing its data)\n",
        "arr12=np.arange(24).reshape(6,4)\n",
        "arr12"
      ],
      "metadata": {
        "id": "N1slu99EgCWX",
        "colab": {
          "base_uri": "https://localhost:8080/"
        },
        "outputId": "488c3b4b-2e57-4674-cde4-32897220823a"
      },
      "execution_count": null,
      "outputs": [
        {
          "output_type": "execute_result",
          "data": {
            "text/plain": [
              "array([[ 0,  1,  2,  3],\n",
              "       [ 4,  5,  6,  7],\n",
              "       [ 8,  9, 10, 11],\n",
              "       [12, 13, 14, 15],\n",
              "       [16, 17, 18, 19],\n",
              "       [20, 21, 22, 23]])"
            ]
          },
          "metadata": {},
          "execution_count": 47
        }
      ]
    },
    {
      "cell_type": "code",
      "source": [
        "#Sicing\n",
        "arr12[4]"
      ],
      "metadata": {
        "colab": {
          "base_uri": "https://localhost:8080/"
        },
        "id": "DBex26Kp7oZA",
        "outputId": "8245c53a-867d-4314-8ad5-f09e74ec0100"
      },
      "execution_count": null,
      "outputs": [
        {
          "output_type": "execute_result",
          "data": {
            "text/plain": [
              "array([16, 17, 18, 19])"
            ]
          },
          "metadata": {},
          "execution_count": 48
        }
      ]
    },
    {
      "cell_type": "code",
      "source": [
        "arr13=arr12[1:4]\n",
        "arr13"
      ],
      "metadata": {
        "colab": {
          "base_uri": "https://localhost:8080/"
        },
        "id": "Mi8TfM6t78rL",
        "outputId": "d83c32bc-2d3e-4dad-867d-3c32a89d187f"
      },
      "execution_count": null,
      "outputs": [
        {
          "output_type": "execute_result",
          "data": {
            "text/plain": [
              "array([[ 4,  5,  6,  7],\n",
              "       [ 8,  9, 10, 11],\n",
              "       [12, 13, 14, 15]])"
            ]
          },
          "metadata": {},
          "execution_count": 51
        }
      ]
    },
    {
      "cell_type": "code",
      "source": [
        "arr14=arr12[:3]\n",
        "arr14"
      ],
      "metadata": {
        "colab": {
          "base_uri": "https://localhost:8080/"
        },
        "id": "ZccAYm0u9CCF",
        "outputId": "1b59d6cf-b75e-4b3e-ac34-28fa244e4d04"
      },
      "execution_count": null,
      "outputs": [
        {
          "output_type": "execute_result",
          "data": {
            "text/plain": [
              "array([[ 0,  1,  2,  3],\n",
              "       [ 4,  5,  6,  7],\n",
              "       [ 8,  9, 10, 11]])"
            ]
          },
          "metadata": {},
          "execution_count": 53
        }
      ]
    },
    {
      "cell_type": "code",
      "source": [
        "arr15=np.arange(14).reshape(2,7)\n",
        "arr15\n"
      ],
      "metadata": {
        "colab": {
          "base_uri": "https://localhost:8080/"
        },
        "id": "Un7VzDuN9NVi",
        "outputId": "660db1de-68b2-4c77-9b28-aede3f6e94f1"
      },
      "execution_count": null,
      "outputs": [
        {
          "output_type": "execute_result",
          "data": {
            "text/plain": [
              "array([[ 0,  1,  2,  3,  4,  5,  6],\n",
              "       [ 7,  8,  9, 10, 11, 12, 13]])"
            ]
          },
          "metadata": {},
          "execution_count": 62
        }
      ]
    },
    {
      "cell_type": "code",
      "source": [
        "arr15[:,2]   #[:,2] means all rows and 2 indicates the column number"
      ],
      "metadata": {
        "colab": {
          "base_uri": "https://localhost:8080/"
        },
        "id": "17KN0iyK9pG0",
        "outputId": "5b562bd4-fbcc-4c12-f889-88ad29a80baa"
      },
      "execution_count": null,
      "outputs": [
        {
          "output_type": "execute_result",
          "data": {
            "text/plain": [
              "array([2, 9])"
            ]
          },
          "metadata": {},
          "execution_count": 64
        }
      ]
    },
    {
      "cell_type": "code",
      "source": [
        "arr15[1:,]   #[1:,] indicates row1 and all columns"
      ],
      "metadata": {
        "colab": {
          "base_uri": "https://localhost:8080/"
        },
        "id": "KaOgBy7K-YOQ",
        "outputId": "3cde861c-7dea-4f17-a2be-4e0b28a0107a"
      },
      "execution_count": null,
      "outputs": [
        {
          "output_type": "execute_result",
          "data": {
            "text/plain": [
              "array([[ 7,  8,  9, 10, 11, 12, 13]])"
            ]
          },
          "metadata": {},
          "execution_count": 70
        }
      ]
    },
    {
      "cell_type": "code",
      "source": [
        "arr15[:,1:3]  #All rows with 1st and 2nd column"
      ],
      "metadata": {
        "colab": {
          "base_uri": "https://localhost:8080/"
        },
        "id": "9TxT-TOXNj0O",
        "outputId": "0849e95d-a4fd-41a6-a992-00726e9668d5"
      },
      "execution_count": null,
      "outputs": [
        {
          "output_type": "execute_result",
          "data": {
            "text/plain": [
              "array([[1, 2],\n",
              "       [8, 9]])"
            ]
          },
          "metadata": {},
          "execution_count": 71
        }
      ]
    },
    {
      "cell_type": "code",
      "source": [
        "arr15[0:2,1:3]   #0 and 1st row with 1st and 2nd column"
      ],
      "metadata": {
        "colab": {
          "base_uri": "https://localhost:8080/"
        },
        "id": "zmC947UsN5nl",
        "outputId": "76161e57-1b25-47fe-d1ec-cd348f19ef39"
      },
      "execution_count": null,
      "outputs": [
        {
          "output_type": "execute_result",
          "data": {
            "text/plain": [
              "array([[1, 2],\n",
              "       [8, 9]])"
            ]
          },
          "metadata": {},
          "execution_count": 80
        }
      ]
    },
    {
      "cell_type": "code",
      "source": [
        "#Iteration\n",
        "for i in arr12:  #This loops through each row of the array.\n",
        "  print(i)"
      ],
      "metadata": {
        "colab": {
          "base_uri": "https://localhost:8080/"
        },
        "id": "VTasHU-WSW7y",
        "outputId": "d98c05ad-f612-48ff-9f8d-22d44da6deec"
      },
      "execution_count": null,
      "outputs": [
        {
          "output_type": "stream",
          "name": "stdout",
          "text": [
            "[0 1 2 3]\n",
            "[4 5 6 7]\n",
            "[ 8  9 10 11]\n",
            "[12 13 14 15]\n",
            "[16 17 18 19]\n",
            "[20 21 22 23]\n"
          ]
        }
      ]
    },
    {
      "cell_type": "code",
      "source": [
        "for i in np.nditer(arr12):    #This loops through each element of the array one by one, no matter how many rows/columns it has.\n",
        "  print(i)"
      ],
      "metadata": {
        "colab": {
          "base_uri": "https://localhost:8080/"
        },
        "id": "3DRbtqDISkDQ",
        "outputId": "f9790fcc-0aaf-4285-c7b6-7e5fb396efc0"
      },
      "execution_count": null,
      "outputs": [
        {
          "output_type": "stream",
          "name": "stdout",
          "text": [
            "0\n",
            "1\n",
            "2\n",
            "3\n",
            "4\n",
            "5\n",
            "6\n",
            "7\n",
            "8\n",
            "9\n",
            "10\n",
            "11\n",
            "12\n",
            "13\n",
            "14\n",
            "15\n",
            "16\n",
            "17\n",
            "18\n",
            "19\n",
            "20\n",
            "21\n",
            "22\n",
            "23\n"
          ]
        }
      ]
    },
    {
      "cell_type": "markdown",
      "source": [
        "# **Numpy Operations**\n"
      ],
      "metadata": {
        "id": "iQJfVnqCU0IK"
      }
    },
    {
      "cell_type": "code",
      "source": [
        "arr1=np.array([1,2,3,4,5,6])\n",
        "arr2=np.array([7,8,9,10,11,12])"
      ],
      "metadata": {
        "id": "8enGwZzBU6y5"
      },
      "execution_count": null,
      "outputs": []
    },
    {
      "cell_type": "code",
      "source": [
        "arr1-arr2"
      ],
      "metadata": {
        "colab": {
          "base_uri": "https://localhost:8080/"
        },
        "id": "78heUx_EVIR4",
        "outputId": "c816504c-879b-4920-d375-f6b1a9e8862f"
      },
      "execution_count": null,
      "outputs": [
        {
          "output_type": "execute_result",
          "data": {
            "text/plain": [
              "array([-6, -6, -6, -6, -6, -6])"
            ]
          },
          "metadata": {},
          "execution_count": 84
        }
      ]
    },
    {
      "cell_type": "code",
      "source": [
        "arr1*2   #Scalar Multiplication"
      ],
      "metadata": {
        "colab": {
          "base_uri": "https://localhost:8080/"
        },
        "id": "tVi3Jw3bVNoe",
        "outputId": "001f2bb2-809a-443f-ddbb-87f05802f3db"
      },
      "execution_count": null,
      "outputs": [
        {
          "output_type": "execute_result",
          "data": {
            "text/plain": [
              "array([ 2,  4,  6,  8, 10, 12])"
            ]
          },
          "metadata": {},
          "execution_count": 86
        }
      ]
    },
    {
      "cell_type": "code",
      "source": [
        "arr2>3  #When the condition will satisty It will give true"
      ],
      "metadata": {
        "colab": {
          "base_uri": "https://localhost:8080/"
        },
        "id": "U5wZuXZHVTba",
        "outputId": "d5f36bde-0aad-4fc4-93f7-d69d15df686e"
      },
      "execution_count": null,
      "outputs": [
        {
          "output_type": "execute_result",
          "data": {
            "text/plain": [
              "array([ True,  True,  True,  True,  True,  True])"
            ]
          },
          "metadata": {},
          "execution_count": 88
        }
      ]
    },
    {
      "cell_type": "code",
      "source": [
        "arr1<4"
      ],
      "metadata": {
        "colab": {
          "base_uri": "https://localhost:8080/"
        },
        "id": "BS2DB_vwVpM8",
        "outputId": "5aa2aadc-09b0-4f3d-d6d4-c63e68afaee6"
      },
      "execution_count": null,
      "outputs": [
        {
          "output_type": "execute_result",
          "data": {
            "text/plain": [
              "array([ True,  True,  True, False, False, False])"
            ]
          },
          "metadata": {},
          "execution_count": 89
        }
      ]
    },
    {
      "cell_type": "code",
      "source": [
        "arr3=np.arange(6).reshape(2,3)\n",
        "arr3\n",
        "\n"
      ],
      "metadata": {
        "colab": {
          "base_uri": "https://localhost:8080/"
        },
        "id": "DmoSjVRZWCER",
        "outputId": "9c643710-74c7-498c-d48b-c77401fa1dea"
      },
      "execution_count": null,
      "outputs": [
        {
          "output_type": "execute_result",
          "data": {
            "text/plain": [
              "array([[0, 1, 2],\n",
              "       [3, 4, 5]])"
            ]
          },
          "metadata": {},
          "execution_count": 94
        }
      ]
    },
    {
      "cell_type": "code",
      "source": [
        "arr4=np.arange(6,12).reshape(3,2)\n",
        "arr4"
      ],
      "metadata": {
        "colab": {
          "base_uri": "https://localhost:8080/"
        },
        "id": "PR-TzBdfWQGl",
        "outputId": "9963e726-1e44-430a-eb2a-e987673d39d2"
      },
      "execution_count": null,
      "outputs": [
        {
          "output_type": "execute_result",
          "data": {
            "text/plain": [
              "array([[ 6,  7],\n",
              "       [ 8,  9],\n",
              "       [10, 11]])"
            ]
          },
          "metadata": {},
          "execution_count": 95
        }
      ]
    },
    {
      "cell_type": "code",
      "source": [
        "arr3.dot(arr4)  #Dot product or Dot Matrix Multiplication"
      ],
      "metadata": {
        "colab": {
          "base_uri": "https://localhost:8080/"
        },
        "id": "pr3xPA5UWnIy",
        "outputId": "719475f0-07fa-4c87-df3f-bf8c796d6fe3"
      },
      "execution_count": null,
      "outputs": [
        {
          "output_type": "execute_result",
          "data": {
            "text/plain": [
              "array([[ 28,  31],\n",
              "       [100, 112]])"
            ]
          },
          "metadata": {},
          "execution_count": 97
        }
      ]
    },
    {
      "cell_type": "code",
      "source": [
        "arr3.max()\n"
      ],
      "metadata": {
        "colab": {
          "base_uri": "https://localhost:8080/"
        },
        "id": "DFn72nkrW74p",
        "outputId": "c84c568e-3335-4bfb-ca13-c3e129d5008c"
      },
      "execution_count": null,
      "outputs": [
        {
          "output_type": "execute_result",
          "data": {
            "text/plain": [
              "np.int64(5)"
            ]
          },
          "metadata": {},
          "execution_count": 100
        }
      ]
    },
    {
      "cell_type": "code",
      "source": [
        "arr4.min()"
      ],
      "metadata": {
        "colab": {
          "base_uri": "https://localhost:8080/"
        },
        "id": "cXgGsq4aXM2v",
        "outputId": "e30fb781-c4cf-47ad-beb5-8412dd8e5de3"
      },
      "execution_count": null,
      "outputs": [
        {
          "output_type": "execute_result",
          "data": {
            "text/plain": [
              "np.int64(6)"
            ]
          },
          "metadata": {},
          "execution_count": 101
        }
      ]
    },
    {
      "cell_type": "code",
      "source": [
        "arr4.min(axis=0) #axis=0 represents row"
      ],
      "metadata": {
        "colab": {
          "base_uri": "https://localhost:8080/"
        },
        "id": "9abqk-LIXPnI",
        "outputId": "2a7ef95b-aecf-4c25-efd7-b21bf58f855a"
      },
      "execution_count": null,
      "outputs": [
        {
          "output_type": "execute_result",
          "data": {
            "text/plain": [
              "array([6, 7])"
            ]
          },
          "metadata": {},
          "execution_count": 104
        }
      ]
    },
    {
      "cell_type": "code",
      "source": [
        "arr4.max(axis=1) #axis=1 represents column"
      ],
      "metadata": {
        "colab": {
          "base_uri": "https://localhost:8080/"
        },
        "id": "k54WFyjxXdN4",
        "outputId": "b1918d49-74fc-47cd-a901-838e8b2c3630"
      },
      "execution_count": null,
      "outputs": [
        {
          "output_type": "execute_result",
          "data": {
            "text/plain": [
              "array([ 7,  9, 11])"
            ]
          },
          "metadata": {},
          "execution_count": 106
        }
      ]
    },
    {
      "cell_type": "code",
      "source": [
        "arr4.sum()  #sum represents the sum of all elements in the array 4"
      ],
      "metadata": {
        "colab": {
          "base_uri": "https://localhost:8080/"
        },
        "id": "p_uYIXKrXwpT",
        "outputId": "38ada85a-667f-4689-df27-2b7f2c83502b"
      },
      "execution_count": null,
      "outputs": [
        {
          "output_type": "execute_result",
          "data": {
            "text/plain": [
              "np.int64(51)"
            ]
          },
          "metadata": {},
          "execution_count": 108
        }
      ]
    },
    {
      "cell_type": "code",
      "source": [
        "arr4.sum(axis=0)"
      ],
      "metadata": {
        "colab": {
          "base_uri": "https://localhost:8080/"
        },
        "id": "ks8PCsCqYL2D",
        "outputId": "2445effc-9f4b-4b74-c653-55b4f0197f64"
      },
      "execution_count": null,
      "outputs": [
        {
          "output_type": "execute_result",
          "data": {
            "text/plain": [
              "array([24, 27])"
            ]
          },
          "metadata": {},
          "execution_count": 109
        }
      ]
    },
    {
      "cell_type": "code",
      "source": [
        "arr4.mean()"
      ],
      "metadata": {
        "colab": {
          "base_uri": "https://localhost:8080/"
        },
        "id": "Vs9PuMjbZMPt",
        "outputId": "0e097796-1752-4cd3-cb52-8bcf12f41613"
      },
      "execution_count": null,
      "outputs": [
        {
          "output_type": "execute_result",
          "data": {
            "text/plain": [
              "np.float64(8.5)"
            ]
          },
          "metadata": {},
          "execution_count": 110
        }
      ]
    },
    {
      "cell_type": "code",
      "source": [
        "arr4.std()    #The purpose of standard deviation is to measure how spread out or close together the values are in a dataset."
      ],
      "metadata": {
        "colab": {
          "base_uri": "https://localhost:8080/"
        },
        "id": "pFBoUbVwZtOg",
        "outputId": "2687ad0b-523a-4316-888d-9dfea0104db3"
      },
      "execution_count": null,
      "outputs": [
        {
          "output_type": "execute_result",
          "data": {
            "text/plain": [
              "np.float64(1.707825127659933)"
            ]
          },
          "metadata": {},
          "execution_count": 112
        }
      ]
    },
    {
      "cell_type": "code",
      "source": [
        "np.sin(arr4) #It calculates the sine value for each number in the array."
      ],
      "metadata": {
        "colab": {
          "base_uri": "https://localhost:8080/"
        },
        "id": "PUa1atjNb11r",
        "outputId": "b3b28964-507f-43d9-cd4b-3dd786a2a73f"
      },
      "execution_count": null,
      "outputs": [
        {
          "output_type": "execute_result",
          "data": {
            "text/plain": [
              "array([[-0.2794155 ,  0.6569866 ],\n",
              "       [ 0.98935825,  0.41211849],\n",
              "       [-0.54402111, -0.99999021]])"
            ]
          },
          "metadata": {},
          "execution_count": 115
        }
      ]
    },
    {
      "cell_type": "code",
      "source": [
        "np.exp(arr4)  #Exponent"
      ],
      "metadata": {
        "colab": {
          "base_uri": "https://localhost:8080/"
        },
        "id": "DtZLV0vacjvd",
        "outputId": "c66eb1ca-0c20-4390-996b-3c91db0d7d16"
      },
      "execution_count": null,
      "outputs": [
        {
          "output_type": "execute_result",
          "data": {
            "text/plain": [
              "array([[  403.42879349,  1096.63315843],\n",
              "       [ 2980.95798704,  8103.08392758],\n",
              "       [22026.46579481, 59874.1417152 ]])"
            ]
          },
          "metadata": {},
          "execution_count": 116
        }
      ]
    },
    {
      "cell_type": "markdown",
      "source": [
        "# **Reshaping Numpy Array**"
      ],
      "metadata": {
        "id": "Vi_CIS02dROB"
      }
    },
    {
      "cell_type": "code",
      "source": [
        "arr4"
      ],
      "metadata": {
        "colab": {
          "base_uri": "https://localhost:8080/"
        },
        "id": "Y-H2sVWkdejL",
        "outputId": "cc81068c-1c5c-45d0-b082-1c6f75588ba0"
      },
      "execution_count": null,
      "outputs": [
        {
          "output_type": "execute_result",
          "data": {
            "text/plain": [
              "array([[ 6,  7],\n",
              "       [ 8,  9],\n",
              "       [10, 11]])"
            ]
          },
          "metadata": {},
          "execution_count": 117
        }
      ]
    },
    {
      "cell_type": "code",
      "source": [
        "arr4.ndim"
      ],
      "metadata": {
        "colab": {
          "base_uri": "https://localhost:8080/"
        },
        "id": "YhvO5C8MduCF",
        "outputId": "e6ffbaa8-e25b-4038-ed5d-bf480de4ad3d"
      },
      "execution_count": null,
      "outputs": [
        {
          "output_type": "execute_result",
          "data": {
            "text/plain": [
              "2"
            ]
          },
          "metadata": {},
          "execution_count": 119
        }
      ]
    },
    {
      "cell_type": "code",
      "source": [
        "arr4.ravel()  #ravel() is used to convert any array into a 1D array.\n"
      ],
      "metadata": {
        "colab": {
          "base_uri": "https://localhost:8080/"
        },
        "id": "fasICYOld1hu",
        "outputId": "0d2aef52-dec5-433a-ad67-3a550d23beec"
      },
      "execution_count": null,
      "outputs": [
        {
          "output_type": "execute_result",
          "data": {
            "text/plain": [
              "array([ 6,  7,  8,  9, 10, 11])"
            ]
          },
          "metadata": {},
          "execution_count": 122
        }
      ]
    },
    {
      "cell_type": "code",
      "source": [
        "arr4.transpose()    #row to column and column to row"
      ],
      "metadata": {
        "colab": {
          "base_uri": "https://localhost:8080/"
        },
        "id": "w4pAjvTpd81D",
        "outputId": "2071d074-9c2c-49fa-e4d9-1c79636c26b3"
      },
      "execution_count": null,
      "outputs": [
        {
          "output_type": "execute_result",
          "data": {
            "text/plain": [
              "array([[ 6,  8, 10],\n",
              "       [ 7,  9, 11]])"
            ]
          },
          "metadata": {},
          "execution_count": 125
        }
      ]
    },
    {
      "cell_type": "code",
      "source": [
        "arr5=np.arange(12,18).reshape(2,3)  #similar matrix as arr3"
      ],
      "metadata": {
        "id": "ZaPq3h_heTLu"
      },
      "execution_count": null,
      "outputs": []
    },
    {
      "cell_type": "code",
      "source": [
        "#Horizontal Stack\n",
        "np.hstack((arr3,arr5))    #It joins arrays in left-to-right direction — like adding more columns.like first three elements of arr3 and arr5 combined\n",
        "\n"
      ],
      "metadata": {
        "colab": {
          "base_uri": "https://localhost:8080/"
        },
        "id": "M8Ng_oEreiUw",
        "outputId": "db3caa19-5496-4456-dacc-b21357bcd623"
      },
      "execution_count": null,
      "outputs": [
        {
          "output_type": "execute_result",
          "data": {
            "text/plain": [
              "array([[ 0,  1,  2, 12, 13, 14],\n",
              "       [ 3,  4,  5, 15, 16, 17]])"
            ]
          },
          "metadata": {},
          "execution_count": 130
        }
      ]
    },
    {
      "cell_type": "code",
      "source": [
        "arr3"
      ],
      "metadata": {
        "colab": {
          "base_uri": "https://localhost:8080/"
        },
        "id": "_OyCiok6efzw",
        "outputId": "cd7556e6-ea6f-45ff-8d45-afe6c4e42d70"
      },
      "execution_count": null,
      "outputs": [
        {
          "output_type": "execute_result",
          "data": {
            "text/plain": [
              "array([[0, 1, 2],\n",
              "       [3, 4, 5]])"
            ]
          },
          "metadata": {},
          "execution_count": 131
        }
      ]
    },
    {
      "cell_type": "code",
      "source": [
        "#Vertical Stack\n",
        "np.vstack((arr5,arr3))"
      ],
      "metadata": {
        "colab": {
          "base_uri": "https://localhost:8080/"
        },
        "id": "zmm94uxRfWF-",
        "outputId": "86b9f15c-7891-425a-ca26-076242100ae7"
      },
      "execution_count": null,
      "outputs": [
        {
          "output_type": "execute_result",
          "data": {
            "text/plain": [
              "array([[12, 13, 14],\n",
              "       [15, 16, 17],\n",
              "       [ 0,  1,  2],\n",
              "       [ 3,  4,  5]])"
            ]
          },
          "metadata": {},
          "execution_count": 134
        }
      ]
    },
    {
      "cell_type": "code",
      "source": [
        "np.vsplit(arr3,2)   #np.vsplit() splits an array vertically (by rows), creating smaller arrays from top to bottom."
      ],
      "metadata": {
        "colab": {
          "base_uri": "https://localhost:8080/"
        },
        "id": "jFhAarv6g0jq",
        "outputId": "8f2040a2-8812-400c-aa6b-2e6150adcf75"
      },
      "execution_count": null,
      "outputs": [
        {
          "output_type": "execute_result",
          "data": {
            "text/plain": [
              "[array([[0, 1, 2]]), array([[3, 4, 5]])]"
            ]
          },
          "metadata": {},
          "execution_count": 146
        }
      ]
    },
    {
      "cell_type": "code",
      "source": [
        "arr20=np.arange(20).reshape(4,5)\n",
        "arr20"
      ],
      "metadata": {
        "colab": {
          "base_uri": "https://localhost:8080/"
        },
        "id": "WkyV4bwFhNQz",
        "outputId": "cb61e0c4-7fbc-4b34-ca90-c52945c2712b"
      },
      "execution_count": null,
      "outputs": [
        {
          "output_type": "execute_result",
          "data": {
            "text/plain": [
              "array([[ 0,  1,  2,  3,  4],\n",
              "       [ 5,  6,  7,  8,  9],\n",
              "       [10, 11, 12, 13, 14],\n",
              "       [15, 16, 17, 18, 19]])"
            ]
          },
          "metadata": {},
          "execution_count": 148
        }
      ]
    },
    {
      "cell_type": "code",
      "source": [
        "np.vsplit(arr20,2)"
      ],
      "metadata": {
        "colab": {
          "base_uri": "https://localhost:8080/"
        },
        "id": "AzGA6Qe7hbw3",
        "outputId": "e8939bc8-6143-41b7-cb71-8cb436aaa7b9"
      },
      "execution_count": null,
      "outputs": [
        {
          "output_type": "execute_result",
          "data": {
            "text/plain": [
              "[array([[0, 1, 2, 3, 4],\n",
              "        [5, 6, 7, 8, 9]]),\n",
              " array([[10, 11, 12, 13, 14],\n",
              "        [15, 16, 17, 18, 19]])]"
            ]
          },
          "metadata": {},
          "execution_count": 150
        }
      ]
    },
    {
      "cell_type": "code",
      "source": [
        "arr100=np.arange(100).reshape(20,5)\n",
        "arr100"
      ],
      "metadata": {
        "colab": {
          "base_uri": "https://localhost:8080/"
        },
        "id": "g4V5NVBUhtuO",
        "outputId": "2547f196-457f-46ff-da50-73175c18e989"
      },
      "execution_count": null,
      "outputs": [
        {
          "output_type": "execute_result",
          "data": {
            "text/plain": [
              "array([[ 0,  1,  2,  3,  4],\n",
              "       [ 5,  6,  7,  8,  9],\n",
              "       [10, 11, 12, 13, 14],\n",
              "       [15, 16, 17, 18, 19],\n",
              "       [20, 21, 22, 23, 24],\n",
              "       [25, 26, 27, 28, 29],\n",
              "       [30, 31, 32, 33, 34],\n",
              "       [35, 36, 37, 38, 39],\n",
              "       [40, 41, 42, 43, 44],\n",
              "       [45, 46, 47, 48, 49],\n",
              "       [50, 51, 52, 53, 54],\n",
              "       [55, 56, 57, 58, 59],\n",
              "       [60, 61, 62, 63, 64],\n",
              "       [65, 66, 67, 68, 69],\n",
              "       [70, 71, 72, 73, 74],\n",
              "       [75, 76, 77, 78, 79],\n",
              "       [80, 81, 82, 83, 84],\n",
              "       [85, 86, 87, 88, 89],\n",
              "       [90, 91, 92, 93, 94],\n",
              "       [95, 96, 97, 98, 99]])"
            ]
          },
          "metadata": {},
          "execution_count": 151
        }
      ]
    },
    {
      "cell_type": "code",
      "source": [
        "np.vsplit(arr100,5)   #it means we divide 0-99 numbers in 5 arrays"
      ],
      "metadata": {
        "colab": {
          "base_uri": "https://localhost:8080/"
        },
        "id": "aJRxxFS3h36I",
        "outputId": "665da4f7-6815-48e3-b949-8865226bb77a"
      },
      "execution_count": null,
      "outputs": [
        {
          "output_type": "execute_result",
          "data": {
            "text/plain": [
              "[array([[ 0,  1,  2,  3,  4],\n",
              "        [ 5,  6,  7,  8,  9],\n",
              "        [10, 11, 12, 13, 14],\n",
              "        [15, 16, 17, 18, 19]]),\n",
              " array([[20, 21, 22, 23, 24],\n",
              "        [25, 26, 27, 28, 29],\n",
              "        [30, 31, 32, 33, 34],\n",
              "        [35, 36, 37, 38, 39]]),\n",
              " array([[40, 41, 42, 43, 44],\n",
              "        [45, 46, 47, 48, 49],\n",
              "        [50, 51, 52, 53, 54],\n",
              "        [55, 56, 57, 58, 59]]),\n",
              " array([[60, 61, 62, 63, 64],\n",
              "        [65, 66, 67, 68, 69],\n",
              "        [70, 71, 72, 73, 74],\n",
              "        [75, 76, 77, 78, 79]]),\n",
              " array([[80, 81, 82, 83, 84],\n",
              "        [85, 86, 87, 88, 89],\n",
              "        [90, 91, 92, 93, 94],\n",
              "        [95, 96, 97, 98, 99]])]"
            ]
          },
          "metadata": {},
          "execution_count": 156
        }
      ]
    },
    {
      "cell_type": "markdown",
      "source": [
        "# **Fancy Indexing**"
      ],
      "metadata": {
        "id": "86xYoZrWkq5p"
      }
    },
    {
      "cell_type": "code",
      "source": [
        "#If we need 1st,3rd and 5th row of an array,Can we extract it through slicing?\n",
        "#NO!!then,\n",
        "arr15=np.arange(24).reshape(6,4)\n",
        "arr15\n"
      ],
      "metadata": {
        "colab": {
          "base_uri": "https://localhost:8080/"
        },
        "id": "LRx8eOLijR4-",
        "outputId": "46ab1671-d3c1-4953-da94-6e1df5fc207d"
      },
      "execution_count": null,
      "outputs": [
        {
          "output_type": "execute_result",
          "data": {
            "text/plain": [
              "array([[ 0,  1,  2,  3],\n",
              "       [ 4,  5,  6,  7],\n",
              "       [ 8,  9, 10, 11],\n",
              "       [12, 13, 14, 15],\n",
              "       [16, 17, 18, 19],\n",
              "       [20, 21, 22, 23]])"
            ]
          },
          "metadata": {},
          "execution_count": 159
        }
      ]
    },
    {
      "cell_type": "code",
      "source": [
        "arr15[[0,2,4]]"
      ],
      "metadata": {
        "colab": {
          "base_uri": "https://localhost:8080/"
        },
        "id": "PQFTpMFujorm",
        "outputId": "d5e171a6-23d1-4e40-f136-712062f982e7"
      },
      "execution_count": null,
      "outputs": [
        {
          "output_type": "execute_result",
          "data": {
            "text/plain": [
              "array([[ 0,  1,  2,  3],\n",
              "       [ 8,  9, 10, 11],\n",
              "       [16, 17, 18, 19]])"
            ]
          },
          "metadata": {},
          "execution_count": 160
        }
      ]
    }
  ]
}